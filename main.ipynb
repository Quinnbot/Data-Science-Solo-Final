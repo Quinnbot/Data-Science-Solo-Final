{
 "cells": [
  {
   "cell_type": "code",
   "execution_count": 1,
   "metadata": {},
   "outputs": [],
   "source": [
    "from sklearn.neighbors import KNeighborsClassifier\n",
    "from sklearn.linear_model import LinearRegression\n",
    "from sklearn.model_selection import train_test_split\n",
    "from sklearn.linear_model import LogisticRegression\n",
    "from sklearn.metrics import mean_squared_error\n",
    "import numpy as np\n",
    "import pandas as pd\n",
    "from random import seed\n",
    "from random import randrange as rr"
   ]
  },
  {
   "cell_type": "markdown",
   "metadata": {},
   "source": [
    "## KNN\n",
    "can you use KNN to predict game outcomes?"
   ]
  },
  {
   "cell_type": "code",
   "execution_count": 2,
   "metadata": {},
   "outputs": [],
   "source": [
    "CSGOData = pd.read_csv(\"csgo_games.csv\")\n",
    "CSGORounds = pd.read_csv(\"csgo_round_snapshots.csv\")"
   ]
  },
  {
   "cell_type": "code",
   "execution_count": 3,
   "metadata": {},
   "outputs": [
    {
     "name": "stdout",
     "output_type": "stream",
     "text": [
      "match_date\n",
      "team_1\n",
      "team_2\n",
      "t1_points\n",
      "t2_points\n",
      "t1_world_rank\n",
      "t2_world_rank\n",
      "t1_h2h_win_perc\n",
      "t2_h2h_win_perc\n",
      "winner\n",
      "t1_player1_rating\n",
      "t1_player1_impact\n",
      "t1_player1_kdr\n",
      "t1_player1_dmr\n",
      "t1_player1_kpr\n",
      "t1_player1_apr\n",
      "t1_player1_dpr\n",
      "t1_player1_spr\n",
      "t1_player1_opk_ratio\n",
      "t1_player1_opk_rating\n",
      "t1_player1_wins_perc_after_fk\n",
      "t1_player1_fk_perc_in_wins\n",
      "t1_player1_multikill_perc\n",
      "t1_player1_rating_at_least_one_perc\n",
      "t1_player1_is_sniper\n",
      "t1_player1_clutch_win_perc\n",
      "t1_player2_rating\n",
      "t1_player2_impact\n",
      "t1_player2_kdr\n",
      "t1_player2_dmr\n",
      "t1_player2_kpr\n",
      "t1_player2_apr\n",
      "t1_player2_dpr\n",
      "t1_player2_spr\n",
      "t1_player2_opk_ratio\n",
      "t1_player2_opk_rating\n",
      "t1_player2_wins_perc_after_fk\n",
      "t1_player2_fk_perc_in_wins\n",
      "t1_player2_multikill_perc\n",
      "t1_player2_rating_at_least_one_perc\n",
      "t1_player2_is_sniper\n",
      "t1_player2_clutch_win_perc\n",
      "t1_player3_rating\n",
      "t1_player3_impact\n",
      "t1_player3_kdr\n",
      "t1_player3_dmr\n",
      "t1_player3_kpr\n",
      "t1_player3_apr\n",
      "t1_player3_dpr\n",
      "t1_player3_spr\n",
      "t1_player3_opk_ratio\n",
      "t1_player3_opk_rating\n",
      "t1_player3_wins_perc_after_fk\n",
      "t1_player3_fk_perc_in_wins\n",
      "t1_player3_multikill_perc\n",
      "t1_player3_rating_at_least_one_perc\n",
      "t1_player3_is_sniper\n",
      "t1_player3_clutch_win_perc\n",
      "t1_player4_rating\n",
      "t1_player4_impact\n",
      "t1_player4_kdr\n",
      "t1_player4_dmr\n",
      "t1_player4_kpr\n",
      "t1_player4_apr\n",
      "t1_player4_dpr\n",
      "t1_player4_spr\n",
      "t1_player4_opk_ratio\n",
      "t1_player4_opk_rating\n",
      "t1_player4_wins_perc_after_fk\n",
      "t1_player4_fk_perc_in_wins\n",
      "t1_player4_multikill_perc\n",
      "t1_player4_rating_at_least_one_perc\n",
      "t1_player4_is_sniper\n",
      "t1_player4_clutch_win_perc\n",
      "t1_player5_rating\n",
      "t1_player5_impact\n",
      "t1_player5_kdr\n",
      "t1_player5_dmr\n",
      "t1_player5_kpr\n",
      "t1_player5_apr\n",
      "t1_player5_dpr\n",
      "t1_player5_spr\n",
      "t1_player5_opk_ratio\n",
      "t1_player5_opk_rating\n",
      "t1_player5_wins_perc_after_fk\n",
      "t1_player5_fk_perc_in_wins\n",
      "t1_player5_multikill_perc\n",
      "t1_player5_rating_at_least_one_perc\n",
      "t1_player5_is_sniper\n",
      "t1_player5_clutch_win_perc\n",
      "t2_player1_rating\n",
      "t2_player1_impact\n",
      "t2_player1_kdr\n",
      "t2_player1_dmr\n",
      "t2_player1_kpr\n",
      "t2_player1_apr\n",
      "t2_player1_dpr\n",
      "t2_player1_spr\n",
      "t2_player1_opk_ratio\n",
      "t2_player1_opk_rating\n",
      "t2_player1_wins_perc_after_fk\n",
      "t2_player1_fk_perc_in_wins\n",
      "t2_player1_multikill_perc\n",
      "t2_player1_rating_at_least_one_perc\n",
      "t2_player1_is_sniper\n",
      "t2_player1_clutch_win_perc\n",
      "t2_player2_rating\n",
      "t2_player2_impact\n",
      "t2_player2_kdr\n",
      "t2_player2_dmr\n",
      "t2_player2_kpr\n",
      "t2_player2_apr\n",
      "t2_player2_dpr\n",
      "t2_player2_spr\n",
      "t2_player2_opk_ratio\n",
      "t2_player2_opk_rating\n",
      "t2_player2_wins_perc_after_fk\n",
      "t2_player2_fk_perc_in_wins\n",
      "t2_player2_multikill_perc\n",
      "t2_player2_rating_at_least_one_perc\n",
      "t2_player2_is_sniper\n",
      "t2_player2_clutch_win_perc\n",
      "t2_player3_rating\n",
      "t2_player3_impact\n",
      "t2_player3_kdr\n",
      "t2_player3_dmr\n",
      "t2_player3_kpr\n",
      "t2_player3_apr\n",
      "t2_player3_dpr\n",
      "t2_player3_spr\n",
      "t2_player3_opk_ratio\n",
      "t2_player3_opk_rating\n",
      "t2_player3_wins_perc_after_fk\n",
      "t2_player3_fk_perc_in_wins\n",
      "t2_player3_multikill_perc\n",
      "t2_player3_rating_at_least_one_perc\n",
      "t2_player3_is_sniper\n",
      "t2_player3_clutch_win_perc\n",
      "t2_player4_rating\n",
      "t2_player4_impact\n",
      "t2_player4_kdr\n",
      "t2_player4_dmr\n",
      "t2_player4_kpr\n",
      "t2_player4_apr\n",
      "t2_player4_dpr\n",
      "t2_player4_spr\n",
      "t2_player4_opk_ratio\n",
      "t2_player4_opk_rating\n",
      "t2_player4_wins_perc_after_fk\n",
      "t2_player4_fk_perc_in_wins\n",
      "t2_player4_multikill_perc\n",
      "t2_player4_rating_at_least_one_perc\n",
      "t2_player4_is_sniper\n",
      "t2_player4_clutch_win_perc\n",
      "t2_player5_rating\n",
      "t2_player5_impact\n",
      "t2_player5_kdr\n",
      "t2_player5_dmr\n",
      "t2_player5_kpr\n",
      "t2_player5_apr\n",
      "t2_player5_dpr\n",
      "t2_player5_spr\n",
      "t2_player5_opk_ratio\n",
      "t2_player5_opk_rating\n",
      "t2_player5_wins_perc_after_fk\n",
      "t2_player5_fk_perc_in_wins\n",
      "t2_player5_multikill_perc\n",
      "t2_player5_rating_at_least_one_perc\n",
      "t2_player5_is_sniper\n",
      "t2_player5_clutch_win_perc\n"
     ]
    }
   ],
   "source": [
    "for c in CSGOData.columns:\n",
    "    print(c)"
   ]
  },
  {
   "cell_type": "code",
   "execution_count": 4,
   "metadata": {},
   "outputs": [
    {
     "data": {
      "text/html": [
       "<style>#sk-container-id-1 {color: black;}#sk-container-id-1 pre{padding: 0;}#sk-container-id-1 div.sk-toggleable {background-color: white;}#sk-container-id-1 label.sk-toggleable__label {cursor: pointer;display: block;width: 100%;margin-bottom: 0;padding: 0.3em;box-sizing: border-box;text-align: center;}#sk-container-id-1 label.sk-toggleable__label-arrow:before {content: \"▸\";float: left;margin-right: 0.25em;color: #696969;}#sk-container-id-1 label.sk-toggleable__label-arrow:hover:before {color: black;}#sk-container-id-1 div.sk-estimator:hover label.sk-toggleable__label-arrow:before {color: black;}#sk-container-id-1 div.sk-toggleable__content {max-height: 0;max-width: 0;overflow: hidden;text-align: left;background-color: #f0f8ff;}#sk-container-id-1 div.sk-toggleable__content pre {margin: 0.2em;color: black;border-radius: 0.25em;background-color: #f0f8ff;}#sk-container-id-1 input.sk-toggleable__control:checked~div.sk-toggleable__content {max-height: 200px;max-width: 100%;overflow: auto;}#sk-container-id-1 input.sk-toggleable__control:checked~label.sk-toggleable__label-arrow:before {content: \"▾\";}#sk-container-id-1 div.sk-estimator input.sk-toggleable__control:checked~label.sk-toggleable__label {background-color: #d4ebff;}#sk-container-id-1 div.sk-label input.sk-toggleable__control:checked~label.sk-toggleable__label {background-color: #d4ebff;}#sk-container-id-1 input.sk-hidden--visually {border: 0;clip: rect(1px 1px 1px 1px);clip: rect(1px, 1px, 1px, 1px);height: 1px;margin: -1px;overflow: hidden;padding: 0;position: absolute;width: 1px;}#sk-container-id-1 div.sk-estimator {font-family: monospace;background-color: #f0f8ff;border: 1px dotted black;border-radius: 0.25em;box-sizing: border-box;margin-bottom: 0.5em;}#sk-container-id-1 div.sk-estimator:hover {background-color: #d4ebff;}#sk-container-id-1 div.sk-parallel-item::after {content: \"\";width: 100%;border-bottom: 1px solid gray;flex-grow: 1;}#sk-container-id-1 div.sk-label:hover label.sk-toggleable__label {background-color: #d4ebff;}#sk-container-id-1 div.sk-serial::before {content: \"\";position: absolute;border-left: 1px solid gray;box-sizing: border-box;top: 0;bottom: 0;left: 50%;z-index: 0;}#sk-container-id-1 div.sk-serial {display: flex;flex-direction: column;align-items: center;background-color: white;padding-right: 0.2em;padding-left: 0.2em;position: relative;}#sk-container-id-1 div.sk-item {position: relative;z-index: 1;}#sk-container-id-1 div.sk-parallel {display: flex;align-items: stretch;justify-content: center;background-color: white;position: relative;}#sk-container-id-1 div.sk-item::before, #sk-container-id-1 div.sk-parallel-item::before {content: \"\";position: absolute;border-left: 1px solid gray;box-sizing: border-box;top: 0;bottom: 0;left: 50%;z-index: -1;}#sk-container-id-1 div.sk-parallel-item {display: flex;flex-direction: column;z-index: 1;position: relative;background-color: white;}#sk-container-id-1 div.sk-parallel-item:first-child::after {align-self: flex-end;width: 50%;}#sk-container-id-1 div.sk-parallel-item:last-child::after {align-self: flex-start;width: 50%;}#sk-container-id-1 div.sk-parallel-item:only-child::after {width: 0;}#sk-container-id-1 div.sk-dashed-wrapped {border: 1px dashed gray;margin: 0 0.4em 0.5em 0.4em;box-sizing: border-box;padding-bottom: 0.4em;background-color: white;}#sk-container-id-1 div.sk-label label {font-family: monospace;font-weight: bold;display: inline-block;line-height: 1.2em;}#sk-container-id-1 div.sk-label-container {text-align: center;}#sk-container-id-1 div.sk-container {/* jupyter's `normalize.less` sets `[hidden] { display: none; }` but bootstrap.min.css set `[hidden] { display: none !important; }` so we also need the `!important` here to be able to override the default hidden behavior on the sphinx rendered scikit-learn.org. See: https://github.com/scikit-learn/scikit-learn/issues/21755 */display: inline-block !important;position: relative;}#sk-container-id-1 div.sk-text-repr-fallback {display: none;}</style><div id=\"sk-container-id-1\" class=\"sk-top-container\"><div class=\"sk-text-repr-fallback\"><pre>KNeighborsClassifier()</pre><b>In a Jupyter environment, please rerun this cell to show the HTML representation or trust the notebook. <br />On GitHub, the HTML representation is unable to render, please try loading this page with nbviewer.org.</b></div><div class=\"sk-container\" hidden><div class=\"sk-item\"><div class=\"sk-estimator sk-toggleable\"><input class=\"sk-toggleable__control sk-hidden--visually\" id=\"sk-estimator-id-1\" type=\"checkbox\" checked><label for=\"sk-estimator-id-1\" class=\"sk-toggleable__label sk-toggleable__label-arrow\">KNeighborsClassifier</label><div class=\"sk-toggleable__content\"><pre>KNeighborsClassifier()</pre></div></div></div></div></div>"
      ],
      "text/plain": [
       "KNeighborsClassifier()"
      ]
     },
     "execution_count": 4,
     "metadata": {},
     "output_type": "execute_result"
    }
   ],
   "source": [
    "CleanedData = pd.DataFrame({\n",
    "   \"winner\": CSGOData['winner'],\n",
    "   \"Team1Rank\": pd.to_numeric(CSGOData['t1_world_rank']),\n",
    "   \"Team2Rank\": pd.to_numeric(CSGOData['t2_world_rank']),\n",
    "   \"Team1H2HWin\": pd.to_numeric(CSGOData['t1_h2h_win_perc'])\n",
    "})\n",
    "\n",
    "X = CleanedData.drop('winner', axis=1)\n",
    "y = CleanedData['winner']\n",
    "X_train, X_test, y_train, y_test = train_test_split(X, y, test_size=0.001, random_state=123)\n",
    "\n",
    "knn = KNeighborsClassifier()\n",
    "knn.fit(X_train, y_train)"
   ]
  },
  {
   "cell_type": "code",
   "execution_count": 5,
   "metadata": {},
   "outputs": [
    {
     "data": {
      "text/html": [
       "<div>\n",
       "<style scoped>\n",
       "    .dataframe tbody tr th:only-of-type {\n",
       "        vertical-align: middle;\n",
       "    }\n",
       "\n",
       "    .dataframe tbody tr th {\n",
       "        vertical-align: top;\n",
       "    }\n",
       "\n",
       "    .dataframe thead th {\n",
       "        text-align: right;\n",
       "    }\n",
       "</style>\n",
       "<table border=\"1\" class=\"dataframe\">\n",
       "  <thead>\n",
       "    <tr style=\"text-align: right;\">\n",
       "      <th></th>\n",
       "      <th>Team1Rank</th>\n",
       "      <th>Team2Rank</th>\n",
       "      <th>Team1H2HWin</th>\n",
       "    </tr>\n",
       "  </thead>\n",
       "  <tbody>\n",
       "    <tr>\n",
       "      <th>471</th>\n",
       "      <td>18</td>\n",
       "      <td>7</td>\n",
       "      <td>0.454545</td>\n",
       "    </tr>\n",
       "    <tr>\n",
       "      <th>804</th>\n",
       "      <td>11</td>\n",
       "      <td>6</td>\n",
       "      <td>0.657895</td>\n",
       "    </tr>\n",
       "    <tr>\n",
       "      <th>2635</th>\n",
       "      <td>17</td>\n",
       "      <td>7</td>\n",
       "      <td>0.375000</td>\n",
       "    </tr>\n",
       "    <tr>\n",
       "      <th>3470</th>\n",
       "      <td>3</td>\n",
       "      <td>9</td>\n",
       "      <td>0.750000</td>\n",
       "    </tr>\n",
       "  </tbody>\n",
       "</table>\n",
       "</div>"
      ],
      "text/plain": [
       "      Team1Rank  Team2Rank  Team1H2HWin\n",
       "471          18          7     0.454545\n",
       "804          11          6     0.657895\n",
       "2635         17          7     0.375000\n",
       "3470          3          9     0.750000"
      ]
     },
     "execution_count": 5,
     "metadata": {},
     "output_type": "execute_result"
    }
   ],
   "source": [
    "pre = knn.predict(X_test)\n",
    "X_test"
   ]
  },
  {
   "cell_type": "markdown",
   "metadata": {},
   "source": [
    "# linear regression\n",
    "can you make predicion of the chance of winning with just the diference in ranks?"
   ]
  },
  {
   "cell_type": "code",
   "execution_count": 6,
   "metadata": {},
   "outputs": [],
   "source": [
    "T1Rank = CSGOData['t1_world_rank']\n",
    "T2Rank = CSGOData['t2_world_rank']\n",
    "T1H2H = CSGOData['t1_h2h_win_perc']\n",
    "T2H2H = CSGOData['t2_h2h_win_perc']\n"
   ]
  },
  {
   "cell_type": "code",
   "execution_count": 7,
   "metadata": {},
   "outputs": [
    {
     "name": "stdout",
     "output_type": "stream",
     "text": [
      "with dif of 20 team 1 has a 71.99310749634216% chance to win.\n"
     ]
    }
   ],
   "source": [
    "\n",
    "X = T2Rank - T1Rank\n",
    "X = X.values.reshape(-1,1)\n",
    "\n",
    "model = LinearRegression()\n",
    "model.fit(X, T1H2H)\n",
    "# %%\n",
    "pre = model.predict(np.array([20]).reshape(-1,1))\n",
    "print(f\"with dif of 20 team 1 has a {100*pre[0]}% chance to win.\")"
   ]
  },
  {
   "cell_type": "markdown",
   "metadata": {},
   "source": [
    "# not sure what model \n",
    "predicticting game outcomes with average player rating of each team."
   ]
  },
  {
   "cell_type": "code",
   "execution_count": 10,
   "metadata": {},
   "outputs": [
    {
     "name": "stdout",
     "output_type": "stream",
     "text": [
      "0.009224997118701395\n"
     ]
    }
   ],
   "source": [
    "Winner = CSGOData['winner'].astype('category')\n",
    "T1H2H = CSGOData['t1_h2h_win_perc']\n",
    "T2H2H = CSGOData['t2_h2h_win_perc']\n",
    "T1PlayerRatingAve = (CSGOData['t1_player1_rating'] + CSGOData['t1_player2_rating'] + CSGOData['t1_player3_rating']\n",
    "                     + CSGOData['t1_player4_rating'] + CSGOData['t1_player5_rating']) / 5\n",
    "T2PlayerRatingAve = (CSGOData['t2_player1_rating'] + CSGOData['t2_player2_rating'] + CSGOData['t2_player3_rating']\n",
    "                     + CSGOData['t2_player4_rating'] + CSGOData['t2_player5_rating']) / 5\n",
    "\n",
    "CSGOData['T1PlayerRatingAve'] = T1PlayerRatingAve\n",
    "CSGOData['T2PlayerRatingAve'] = T2PlayerRatingAve\n",
    "\n",
    "lrDIF = LinearRegression().fit(CSGOData[['T2PlayerRatingAve', 'T1PlayerRatingAve']], T1H2H)\n",
    "\n",
    "lrAGAINST = LinearRegression().fit(CSGOData[['T2PlayerRatingAve']], T1H2H)\n",
    "\n",
    "print(lrAGAINST.score(CSGOData[['T2PlayerRatingAve']], T1H2H))"
   ]
  },
  {
   "cell_type": "code",
   "execution_count": null,
   "metadata": {},
   "outputs": [],
   "source": []
  }
 ],
 "metadata": {
  "kernelspec": {
   "display_name": "Python 3",
   "language": "python",
   "name": "python3"
  },
  "language_info": {
   "codemirror_mode": {
    "name": "ipython",
    "version": 3
   },
   "file_extension": ".py",
   "mimetype": "text/x-python",
   "name": "python",
   "nbconvert_exporter": "python",
   "pygments_lexer": "ipython3",
   "version": "3.11.4"
  }
 },
 "nbformat": 4,
 "nbformat_minor": 2
}
